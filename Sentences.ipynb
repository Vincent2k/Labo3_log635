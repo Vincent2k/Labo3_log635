{
 "cells": [
  {
   "cell_type": "code",
   "execution_count": 1,
   "metadata": {},
   "outputs": [],
   "source": [
    "import nltk\n",
    "from nltk import load_parser\n",
    "\n",
    "def printResults (results):\n",
    "    for result in results:\n",
    "        for (synrep, semrep) in result:\n",
    "            print(semrep)"
   ]
  },
  {
   "cell_type": "code",
   "execution_count": 6,
   "metadata": {},
   "outputs": [],
   "source": [
    "sents1 = ['La victime est moutarde']\n",
    "sents1bis = ['Rose est la victime']\n",
    "\n",
    "sents2 = ['Tu es dans la cuisine']\n",
    "sents2bis = ['Tu te trouves dans le salon']"
   ]
  },
  {
   "cell_type": "code",
   "execution_count": 7,
   "metadata": {},
   "outputs": [
    {
     "name": "stdout",
     "output_type": "stream",
     "text": [
      "Moutarde\n",
      "Rose\n"
     ]
    }
   ],
   "source": [
    "printResults(nltk.interpret_sents(sents1, '635/victime.fcfg'))\n",
    "printResults(nltk.interpret_sents(sents1bis, '635/victime.fcfg'))"
   ]
  },
  {
   "cell_type": "code",
   "execution_count": 8,
   "metadata": {},
   "outputs": [
    {
     "name": "stdout",
     "output_type": "stream",
     "text": [
      "Cuisine\n",
      "Salon\n"
     ]
    }
   ],
   "source": [
    "printResults(nltk.interpret_sents(sents2, '635/emplacement.fcfg'))\n",
    "printResults(nltk.interpret_sents(sents2bis, '635/emplacement.fcfg'))"
   ]
  },
  {
   "cell_type": "code",
   "execution_count": null,
   "metadata": {},
   "outputs": [],
   "source": []
  },
  {
   "cell_type": "code",
   "execution_count": null,
   "metadata": {},
   "outputs": [],
   "source": []
  }
 ],
 "metadata": {
  "kernelspec": {
   "display_name": "Python 3",
   "language": "python",
   "name": "python3"
  },
  "language_info": {
   "codemirror_mode": {
    "name": "ipython",
    "version": 3
   },
   "file_extension": ".py",
   "mimetype": "text/x-python",
   "name": "python",
   "nbconvert_exporter": "python",
   "pygments_lexer": "ipython3",
   "version": "3.6.5"
  }
 },
 "nbformat": 4,
 "nbformat_minor": 2
}
